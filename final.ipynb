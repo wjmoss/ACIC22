{
 "cells": [
  {
   "cell_type": "code",
   "execution_count": 1,
   "id": "28d32e68-f3dc-461d-b684-c5bcc33f00e5",
   "metadata": {},
   "outputs": [
    {
     "name": "stderr",
     "output_type": "stream",
     "text": [
      "C:\\Users\\wj\\Anaconda3\\lib\\site-packages\\dask\\dataframe\\utils.py:14: FutureWarning: pandas.util.testing is deprecated. Use the functions in the public API at pandas.testing instead.\n",
      "  import pandas.util.testing as tm\n"
     ]
    }
   ],
   "source": [
    "import numpy as np\n",
    "import pandas as pd\n",
    "import matplotlib.pyplot as plt\n",
    "\n",
    "from sklearn.preprocessing import StandardScaler\n",
    "from sklearn.linear_model import LogisticRegression\n",
    "from sklearn.neural_network import MLPClassifier, MLPRegressor\n",
    "from lightgbm import LGBMRegressor,LGBMClassifier\n",
    "from sklearn.model_selection import cross_val_predict\n",
    "from sklearn.model_selection import GridSearchCV"
   ]
  },
  {
   "cell_type": "code",
   "execution_count": 2,
   "id": "7c56bb33-ee32-4cf1-bb65-d13c547d7798",
   "metadata": {},
   "outputs": [],
   "source": [
    "data_x = pd.read_csv(\"./data/practice/acic_practice_0001.csv\")\n",
    "data_y = pd.read_csv(\"./data/practice_year/acic_practice_year_0001.csv\")"
   ]
  },
  {
   "cell_type": "markdown",
   "id": "12e35398-04ab-490b-a2ab-aa75649e4ca7",
   "metadata": {},
   "source": [
    "# propensity score"
   ]
  },
  {
   "cell_type": "code",
   "execution_count": 56,
   "id": "edbbd9a6-c100-4699-b47c-a6e33e65eca2",
   "metadata": {},
   "outputs": [
    {
     "data": {
      "text/html": [
       "<div>\n",
       "<style scoped>\n",
       "    .dataframe tbody tr th:only-of-type {\n",
       "        vertical-align: middle;\n",
       "    }\n",
       "\n",
       "    .dataframe tbody tr th {\n",
       "        vertical-align: top;\n",
       "    }\n",
       "\n",
       "    .dataframe thead th {\n",
       "        text-align: right;\n",
       "    }\n",
       "</style>\n",
       "<table border=\"1\" class=\"dataframe\">\n",
       "  <thead>\n",
       "    <tr style=\"text-align: right;\">\n",
       "      <th></th>\n",
       "      <th>id.practice</th>\n",
       "      <th>X1</th>\n",
       "      <th>X2</th>\n",
       "      <th>X3</th>\n",
       "      <th>X4</th>\n",
       "      <th>X5</th>\n",
       "      <th>X6</th>\n",
       "      <th>X7</th>\n",
       "      <th>X8</th>\n",
       "      <th>X9</th>\n",
       "    </tr>\n",
       "  </thead>\n",
       "  <tbody>\n",
       "    <tr>\n",
       "      <th>0</th>\n",
       "      <td>1</td>\n",
       "      <td>0</td>\n",
       "      <td>A</td>\n",
       "      <td>1</td>\n",
       "      <td>A</td>\n",
       "      <td>1</td>\n",
       "      <td>20.774076</td>\n",
       "      <td>14.153255</td>\n",
       "      <td>0.161126</td>\n",
       "      <td>43.431874</td>\n",
       "    </tr>\n",
       "    <tr>\n",
       "      <th>1</th>\n",
       "      <td>2</td>\n",
       "      <td>0</td>\n",
       "      <td>A</td>\n",
       "      <td>0</td>\n",
       "      <td>C</td>\n",
       "      <td>0</td>\n",
       "      <td>33.565928</td>\n",
       "      <td>3.284657</td>\n",
       "      <td>0.556784</td>\n",
       "      <td>12.721988</td>\n",
       "    </tr>\n",
       "    <tr>\n",
       "      <th>2</th>\n",
       "      <td>3</td>\n",
       "      <td>0</td>\n",
       "      <td>C</td>\n",
       "      <td>1</td>\n",
       "      <td>A</td>\n",
       "      <td>1</td>\n",
       "      <td>57.283021</td>\n",
       "      <td>11.178051</td>\n",
       "      <td>0.257244</td>\n",
       "      <td>-7.352617</td>\n",
       "    </tr>\n",
       "    <tr>\n",
       "      <th>3</th>\n",
       "      <td>4</td>\n",
       "      <td>1</td>\n",
       "      <td>C</td>\n",
       "      <td>1</td>\n",
       "      <td>A</td>\n",
       "      <td>0</td>\n",
       "      <td>41.900776</td>\n",
       "      <td>1.542463</td>\n",
       "      <td>0.129618</td>\n",
       "      <td>20.032199</td>\n",
       "    </tr>\n",
       "    <tr>\n",
       "      <th>4</th>\n",
       "      <td>5</td>\n",
       "      <td>1</td>\n",
       "      <td>B</td>\n",
       "      <td>1</td>\n",
       "      <td>A</td>\n",
       "      <td>0</td>\n",
       "      <td>41.486809</td>\n",
       "      <td>7.504068</td>\n",
       "      <td>0.413924</td>\n",
       "      <td>35.449536</td>\n",
       "    </tr>\n",
       "    <tr>\n",
       "      <th>...</th>\n",
       "      <td>...</td>\n",
       "      <td>...</td>\n",
       "      <td>...</td>\n",
       "      <td>...</td>\n",
       "      <td>...</td>\n",
       "      <td>...</td>\n",
       "      <td>...</td>\n",
       "      <td>...</td>\n",
       "      <td>...</td>\n",
       "      <td>...</td>\n",
       "    </tr>\n",
       "    <tr>\n",
       "      <th>495</th>\n",
       "      <td>496</td>\n",
       "      <td>0</td>\n",
       "      <td>C</td>\n",
       "      <td>1</td>\n",
       "      <td>A</td>\n",
       "      <td>1</td>\n",
       "      <td>29.898841</td>\n",
       "      <td>17.945129</td>\n",
       "      <td>0.381701</td>\n",
       "      <td>40.224974</td>\n",
       "    </tr>\n",
       "    <tr>\n",
       "      <th>496</th>\n",
       "      <td>497</td>\n",
       "      <td>1</td>\n",
       "      <td>C</td>\n",
       "      <td>0</td>\n",
       "      <td>A</td>\n",
       "      <td>1</td>\n",
       "      <td>20.378333</td>\n",
       "      <td>20.770890</td>\n",
       "      <td>0.422255</td>\n",
       "      <td>62.857150</td>\n",
       "    </tr>\n",
       "    <tr>\n",
       "      <th>497</th>\n",
       "      <td>498</td>\n",
       "      <td>0</td>\n",
       "      <td>A</td>\n",
       "      <td>0</td>\n",
       "      <td>A</td>\n",
       "      <td>0</td>\n",
       "      <td>30.162733</td>\n",
       "      <td>9.174455</td>\n",
       "      <td>0.205427</td>\n",
       "      <td>-4.931348</td>\n",
       "    </tr>\n",
       "    <tr>\n",
       "      <th>498</th>\n",
       "      <td>499</td>\n",
       "      <td>1</td>\n",
       "      <td>C</td>\n",
       "      <td>0</td>\n",
       "      <td>A</td>\n",
       "      <td>1</td>\n",
       "      <td>32.795499</td>\n",
       "      <td>19.769398</td>\n",
       "      <td>0.295538</td>\n",
       "      <td>84.228736</td>\n",
       "    </tr>\n",
       "    <tr>\n",
       "      <th>499</th>\n",
       "      <td>500</td>\n",
       "      <td>1</td>\n",
       "      <td>C</td>\n",
       "      <td>1</td>\n",
       "      <td>B</td>\n",
       "      <td>1</td>\n",
       "      <td>27.249023</td>\n",
       "      <td>12.603514</td>\n",
       "      <td>0.308174</td>\n",
       "      <td>11.998052</td>\n",
       "    </tr>\n",
       "  </tbody>\n",
       "</table>\n",
       "<p>500 rows × 10 columns</p>\n",
       "</div>"
      ],
      "text/plain": [
       "     id.practice  X1 X2  X3 X4  X5         X6         X7        X8         X9\n",
       "0              1   0  A   1  A   1  20.774076  14.153255  0.161126  43.431874\n",
       "1              2   0  A   0  C   0  33.565928   3.284657  0.556784  12.721988\n",
       "2              3   0  C   1  A   1  57.283021  11.178051  0.257244  -7.352617\n",
       "3              4   1  C   1  A   0  41.900776   1.542463  0.129618  20.032199\n",
       "4              5   1  B   1  A   0  41.486809   7.504068  0.413924  35.449536\n",
       "..           ...  .. ..  .. ..  ..        ...        ...       ...        ...\n",
       "495          496   0  C   1  A   1  29.898841  17.945129  0.381701  40.224974\n",
       "496          497   1  C   0  A   1  20.378333  20.770890  0.422255  62.857150\n",
       "497          498   0  A   0  A   0  30.162733   9.174455  0.205427  -4.931348\n",
       "498          499   1  C   0  A   1  32.795499  19.769398  0.295538  84.228736\n",
       "499          500   1  C   1  B   1  27.249023  12.603514  0.308174  11.998052\n",
       "\n",
       "[500 rows x 10 columns]"
      ]
     },
     "execution_count": 56,
     "metadata": {},
     "output_type": "execute_result"
    }
   ],
   "source": [
    "data_x"
   ]
  },
  {
   "cell_type": "code",
   "execution_count": 49,
   "id": "fbdf87e1-68dc-42c9-ace0-7eb94ec6e913",
   "metadata": {},
   "outputs": [],
   "source": [
    "data_z = pd.merge(data_x, data_y[['id.practice','Z']].drop_duplicates(), on='id.practice')\n",
    "df = data_z\n",
    "ct = ['X2','X4']\n",
    "for c in ct:\n",
    "    df[c] = df[c].astype('category')\n",
    "\n",
    "debias_m = LGBMClassifier(max_depth=3)\n",
    "\n",
    "X = ['X1','X2','X3','X4','X5','X6','X7','X8','X9']\n",
    "T = ['Z']\n",
    "#ps_res =  df[T] - cross_val_predict(debias_m, df[X], df[T].values.ravel(), cv=5, method='predict_proba')[:,1].reshape(-1,1) + df[T].mean()"
   ]
  },
  {
   "cell_type": "code",
   "execution_count": 57,
   "id": "1dd30473-750c-4fdd-9f5b-5172cccb2a2a",
   "metadata": {},
   "outputs": [],
   "source": [
    "debias_m = LGBMClassifier(objective = 'binary',\n",
    "                         is_unbalance = True,\n",
    "                         #metric = 'log_loss',\n",
    "                         metric = 'binary_logloss,auc',\n",
    "                         max_depth = 4,\n",
    "                         num_leaves = 20,\n",
    "                         learning_rate = 0.1,\n",
    "                         #feature_fraction = 0.7,\n",
    "                         min_child_samples=21,\n",
    "                         min_child_weight=0.001,\n",
    "                         #bagging = 1,\n",
    "                         #subsample_freq = 2,\n",
    "                         reg_alpha = 0.002,\n",
    "                         reg_lambda = 10,\n",
    "                         cat_smooth = 0,\n",
    "                         n_estimators = 200,   \n",
    "                        )\n",
    "\n",
    "ps = cross_val_predict(debias_m, df[X], df[T].values.ravel(), cv=10, method='predict_proba')[:,1]\n",
    "#ps_res =  df[T] - cross_val_predict(debias_m, df[X], df[T].values.ravel(), cv=5, method='predict_proba')[:,1].reshape(-1,1) + df[T].mean()\n",
    "data_x = data_x.assign(ps = ps)"
   ]
  },
  {
   "cell_type": "code",
   "execution_count": null,
   "id": "537022c8-e25d-4143-bc4e-59c6d6fc8447",
   "metadata": {},
   "outputs": [],
   "source": [
    "data_z = data_z.assign(ps = ps)\n",
    "data_z"
   ]
  },
  {
   "cell_type": "markdown",
   "id": "eb1d28ee-26dd-43b5-aa10-cf1ce435c3f5",
   "metadata": {},
   "source": [
    "# average outcome for year 3,4"
   ]
  },
  {
   "cell_type": "code",
   "execution_count": 67,
   "id": "725b0b6a-2596-4469-bfc0-917ea6a722d1",
   "metadata": {},
   "outputs": [],
   "source": [
    "data_o = pd.merge(data_x, data_y, on='id.practice')\n",
    "df = data_o\n",
    "ct = ['X2','X4']\n",
    "for c in ct:\n",
    "    df[c] = df[c].astype('category')\n",
    "    \n",
    "#XV = df.columns.drop(['id.practice','year','post','Z','n.patients'])\n",
    "V = ['V1_avg', 'V2_avg', 'V3_avg', 'V4_avg', 'V5_A_avg', 'V5_B_avg', 'V5_C_avg']\n",
    "Y = ['Y']"
   ]
  },
  {
   "cell_type": "code",
   "execution_count": 68,
   "id": "c4192fe5-bf58-47f8-8b4e-94ad4f870a52",
   "metadata": {},
   "outputs": [
    {
     "name": "stdout",
     "output_type": "stream",
     "text": [
      "870.6451336763548\n",
      "1010.0760840822331\n",
      "1134.3928342316492\n",
      "1250.6285559851644\n"
     ]
    }
   ],
   "source": [
    "means = []\n",
    "for i in range(1,5):\n",
    "    means.append(df[(df['year']==i) & (df['Z']==0)]['Y'].mean())\n",
    "    print(means[i-1])\n",
    "\n",
    "avgs = pd.DataFrame({'year': [1, 2, 3, 4], 't_avg': means})\n",
    "df = pd.merge(df, avgs, on='year')\n",
    "\n",
    "df_34 = df[df['year'] >= 3]"
   ]
  },
  {
   "cell_type": "code",
   "execution_count": 69,
   "id": "9b32b3cf-1e82-4b79-bf22-5bdaefbf7e62",
   "metadata": {},
   "outputs": [],
   "source": [
    "denoise_m = LGBMRegressor(is_unbalance = True,\n",
    "                         #metric = 'log_loss',\n",
    "                         metric = 'binary_logloss,auc',\n",
    "                         max_depth = 4,\n",
    "                         num_leaves = 20,\n",
    "                         learning_rate = 0.1,\n",
    "                         #feature_fraction = 0.7,\n",
    "                         min_child_samples=21,\n",
    "                         min_child_weight=0.001,\n",
    "                         #bagging = 1,\n",
    "                         #subsample_freq = 2,\n",
    "                         reg_alpha = 0.002,\n",
    "                         reg_lambda = 10,\n",
    "                         cat_smooth = 0,\n",
    "                         n_estimators = 200,   \n",
    "                        )\n",
    "\n",
    "# \\hat{\\mu_0(v)+e(x)r(x)+f(t)}\n",
    "#pred3 = cross_val_predict(denoise_m, df_3[V], df_3[Y].values.ravel(), cv=10, method='predict_proba')[:,1]\n",
    "#pred4 = cross_val_predict(denoise_m, df_4[V], df_4[Y].values.ravel(), cv=10, method='predict_proba')[:,1]\n",
    "\n",
    "df_34 = df[df['year'] >= 3]\n",
    "pred_M = cross_val_predict(denoise_m, df_34[V], df_34['Y']-df_34['t_avg'], cv=10)"
   ]
  },
  {
   "cell_type": "markdown",
   "id": "736fbf8a-cb5a-4c27-9c9f-88c99aab27f8",
   "metadata": {
    "tags": []
   },
   "source": [
    "# Non Parametric Double/Debiased ML"
   ]
  },
  {
   "cell_type": "code",
   "execution_count": 77,
   "id": "f3739922-8061-4614-9e26-b3850c465953",
   "metadata": {},
   "outputs": [
    {
     "data": {
      "text/plain": [
       "LGBMRegressor(max_depth=6)"
      ]
     },
     "execution_count": 77,
     "metadata": {},
     "output_type": "execute_result"
    }
   ],
   "source": [
    "df_34 = df_34.assign(y_res = df_34['Y'] - pred_M, z_res = df_34['Z'] - df_34['ps'])\n",
    "\n",
    "model_final = LGBMRegressor(max_depth=6)\n",
    " \n",
    "# create the weights\n",
    "w = df_34['z_res'] ** 2 \n",
    " \n",
    "# create the transformed target\n",
    "y_star = (df_34['y_res'] / df_34['z_res'])\n",
    " \n",
    "# use a weighted regression ML model to predict the target with the weights.\n",
    "model_final.fit(X=df_34[V], y=y_star, sample_weight=w)"
   ]
  },
  {
   "cell_type": "markdown",
   "id": "14e29721-d16d-4c46-b281-d9548629e73f",
   "metadata": {},
   "source": [
    "# Iterative Estimation"
   ]
  },
  {
   "cell_type": "code",
   "execution_count": null,
   "id": "e3d441a6-1062-4eb4-b06b-1b5a0c67de48",
   "metadata": {},
   "outputs": [],
   "source": []
  }
 ],
 "metadata": {
  "kernelspec": {
   "display_name": "Python 3",
   "language": "python",
   "name": "python3"
  },
  "language_info": {
   "codemirror_mode": {
    "name": "ipython",
    "version": 3
   },
   "file_extension": ".py",
   "mimetype": "text/x-python",
   "name": "python",
   "nbconvert_exporter": "python",
   "pygments_lexer": "ipython3",
   "version": "3.7.4"
  }
 },
 "nbformat": 4,
 "nbformat_minor": 5
}
