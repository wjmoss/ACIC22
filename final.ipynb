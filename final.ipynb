{
 "cells": [
  {
   "cell_type": "code",
   "execution_count": 265,
   "id": "28d32e68-f3dc-461d-b684-c5bcc33f00e5",
   "metadata": {},
   "outputs": [],
   "source": [
    "import numpy as np\n",
    "import pandas as pd\n",
    "import statsmodels.formula.api as smf\n",
    "import matplotlib.pyplot as plt\n",
    "\n",
    "from sklearn.preprocessing import StandardScaler\n",
    "from sklearn.linear_model import LogisticRegression, LinearRegression\n",
    "from sklearn.neural_network import MLPClassifier, MLPRegressor\n",
    "from lightgbm import LGBMRegressor,LGBMClassifier\n",
    "from sklearn.model_selection import cross_val_predict\n",
    "from sklearn.model_selection import GridSearchCV"
   ]
  },
  {
   "cell_type": "code",
   "execution_count": 294,
   "id": "7c56bb33-ee32-4cf1-bb65-d13c547d7798",
   "metadata": {},
   "outputs": [],
   "source": [
    "data_x = pd.read_csv(\"./data/practice/acic_practice_0001.csv\")\n",
    "data_y = pd.read_csv(\"./data/practice_year/acic_practice_year_0001.csv\")"
   ]
  },
  {
   "cell_type": "markdown",
   "id": "12e35398-04ab-490b-a2ab-aa75649e4ca7",
   "metadata": {},
   "source": [
    "# propensity score"
   ]
  },
  {
   "cell_type": "code",
   "execution_count": 342,
   "id": "edbbd9a6-c100-4699-b47c-a6e33e65eca2",
   "metadata": {},
   "outputs": [
    {
     "data": {
      "text/html": [
       "<div>\n",
       "<style scoped>\n",
       "    .dataframe tbody tr th:only-of-type {\n",
       "        vertical-align: middle;\n",
       "    }\n",
       "\n",
       "    .dataframe tbody tr th {\n",
       "        vertical-align: top;\n",
       "    }\n",
       "\n",
       "    .dataframe thead th {\n",
       "        text-align: right;\n",
       "    }\n",
       "</style>\n",
       "<table border=\"1\" class=\"dataframe\">\n",
       "  <thead>\n",
       "    <tr style=\"text-align: right;\">\n",
       "      <th></th>\n",
       "      <th>id.practice</th>\n",
       "      <th>year</th>\n",
       "      <th>Y</th>\n",
       "      <th>Z</th>\n",
       "      <th>post</th>\n",
       "      <th>n.patients</th>\n",
       "      <th>V1_avg</th>\n",
       "      <th>V2_avg</th>\n",
       "      <th>V3_avg</th>\n",
       "      <th>V4_avg</th>\n",
       "      <th>V5_A_avg</th>\n",
       "      <th>V5_B_avg</th>\n",
       "      <th>V5_C_avg</th>\n",
       "    </tr>\n",
       "  </thead>\n",
       "  <tbody>\n",
       "    <tr>\n",
       "      <th>0</th>\n",
       "      <td>1</td>\n",
       "      <td>1</td>\n",
       "      <td>1025.523263</td>\n",
       "      <td>1</td>\n",
       "      <td>0</td>\n",
       "      <td>113</td>\n",
       "      <td>10.808207</td>\n",
       "      <td>2.920354</td>\n",
       "      <td>0.539823</td>\n",
       "      <td>0.279685</td>\n",
       "      <td>0.690265</td>\n",
       "      <td>0.274336</td>\n",
       "      <td>0.035398</td>\n",
       "    </tr>\n",
       "    <tr>\n",
       "      <th>1</th>\n",
       "      <td>1</td>\n",
       "      <td>2</td>\n",
       "      <td>1613.777568</td>\n",
       "      <td>1</td>\n",
       "      <td>0</td>\n",
       "      <td>109</td>\n",
       "      <td>10.767909</td>\n",
       "      <td>2.871560</td>\n",
       "      <td>0.532110</td>\n",
       "      <td>0.261003</td>\n",
       "      <td>0.706422</td>\n",
       "      <td>0.266055</td>\n",
       "      <td>0.027523</td>\n",
       "    </tr>\n",
       "    <tr>\n",
       "      <th>2</th>\n",
       "      <td>1</td>\n",
       "      <td>3</td>\n",
       "      <td>1189.200788</td>\n",
       "      <td>1</td>\n",
       "      <td>1</td>\n",
       "      <td>121</td>\n",
       "      <td>10.896147</td>\n",
       "      <td>2.867769</td>\n",
       "      <td>0.528926</td>\n",
       "      <td>0.207485</td>\n",
       "      <td>0.727273</td>\n",
       "      <td>0.231405</td>\n",
       "      <td>0.041322</td>\n",
       "    </tr>\n",
       "    <tr>\n",
       "      <th>3</th>\n",
       "      <td>1</td>\n",
       "      <td>4</td>\n",
       "      <td>1619.829704</td>\n",
       "      <td>1</td>\n",
       "      <td>1</td>\n",
       "      <td>131</td>\n",
       "      <td>10.549631</td>\n",
       "      <td>2.717557</td>\n",
       "      <td>0.541985</td>\n",
       "      <td>0.183141</td>\n",
       "      <td>0.702290</td>\n",
       "      <td>0.259542</td>\n",
       "      <td>0.038168</td>\n",
       "    </tr>\n",
       "    <tr>\n",
       "      <th>4</th>\n",
       "      <td>2</td>\n",
       "      <td>1</td>\n",
       "      <td>834.169421</td>\n",
       "      <td>1</td>\n",
       "      <td>0</td>\n",
       "      <td>264</td>\n",
       "      <td>11.980692</td>\n",
       "      <td>2.946970</td>\n",
       "      <td>0.530303</td>\n",
       "      <td>-0.137824</td>\n",
       "      <td>0.715909</td>\n",
       "      <td>0.159091</td>\n",
       "      <td>0.125000</td>\n",
       "    </tr>\n",
       "  </tbody>\n",
       "</table>\n",
       "</div>"
      ],
      "text/plain": [
       "   id.practice  year            Y  Z  post  n.patients     V1_avg    V2_avg  \\\n",
       "0            1     1  1025.523263  1     0         113  10.808207  2.920354   \n",
       "1            1     2  1613.777568  1     0         109  10.767909  2.871560   \n",
       "2            1     3  1189.200788  1     1         121  10.896147  2.867769   \n",
       "3            1     4  1619.829704  1     1         131  10.549631  2.717557   \n",
       "4            2     1   834.169421  1     0         264  11.980692  2.946970   \n",
       "\n",
       "     V3_avg    V4_avg  V5_A_avg  V5_B_avg  V5_C_avg  \n",
       "0  0.539823  0.279685  0.690265  0.274336  0.035398  \n",
       "1  0.532110  0.261003  0.706422  0.266055  0.027523  \n",
       "2  0.528926  0.207485  0.727273  0.231405  0.041322  \n",
       "3  0.541985  0.183141  0.702290  0.259542  0.038168  \n",
       "4  0.530303 -0.137824  0.715909  0.159091  0.125000  "
      ]
     },
     "execution_count": 342,
     "metadata": {},
     "output_type": "execute_result"
    }
   ],
   "source": [
    "data_y.head()"
   ]
  },
  {
   "cell_type": "code",
   "execution_count": 353,
   "id": "12130669-e1b1-41f8-b66f-e26a12270e66",
   "metadata": {},
   "outputs": [
    {
     "data": {
      "image/png": "[encoded data removed]",
      "text/plain": [
       "<Figure size 640x480 with 1 Axes>"
      ]
     },
     "metadata": {},
     "output_type": "display_data"
    }
   ],
   "source": [
    "plt.hist(data_y.loc[data_y['year']==4,'Y'], bins=50)\n",
    "plt.show()"
   ]
  },
  {
   "cell_type": "code",
   "execution_count": 295,
   "id": "fbdf87e1-68dc-42c9-ace0-7eb94ec6e913",
   "metadata": {},
   "outputs": [],
   "source": [
    "data_z = pd.merge(data_x, data_y[['id.practice','Z']].drop_duplicates(), on='id.practice')\n",
    "df = data_z\n",
    "ct = ['X2','X4']\n",
    "for c in ct:\n",
    "    df[c] = df[c].astype('category')\n",
    "\n",
    "debias_m = LGBMClassifier(max_depth=3)\n",
    "\n",
    "X = ['X1','X2','X3','X4','X5','X6','X7','X8','X9']\n",
    "T = ['Z']\n",
    "#ps_res =  df[T] - cross_val_predict(debias_m, df[X], df[T].values.ravel(), cv=5, method='predict_proba')[:,1].reshape(-1,1) + df[T].mean()"
   ]
  },
  {
   "cell_type": "code",
   "execution_count": 317,
   "id": "fb12f46e-207a-402c-bceb-1e86538c1535",
   "metadata": {},
   "outputs": [
    {
     "data": {
      "text/plain": [
       "(500, 11)"
      ]
     },
     "execution_count": 317,
     "metadata": {},
     "output_type": "execute_result"
    }
   ],
   "source": []
  },
  {
   "cell_type": "code",
   "execution_count": 318,
   "id": "1dd30473-750c-4fdd-9f5b-5172cccb2a2a",
   "metadata": {},
   "outputs": [],
   "source": [
    "debias_m = LGBMClassifier(objective = 'binary',\n",
    "                         is_unbalance = True,\n",
    "                         #metric = 'log_loss',\n",
    "                         metric = 'binary_logloss,auc',\n",
    "                         max_depth = 6,\n",
    "                         num_leaves = 20,\n",
    "                         learning_rate = 0.1,\n",
    "                         #feature_fraction = 0.7,\n",
    "                         min_child_samples=21,\n",
    "                         min_child_weight=0.001,\n",
    "                         #bagging = 1,\n",
    "                         #subsample_freq = 2,\n",
    "                         reg_alpha = 0.002,\n",
    "                         reg_lambda = 10,\n",
    "                         cat_smooth = 0,\n",
    "                         n_estimators = 200,   \n",
    "                        )\n",
    "\n",
    "ps = cross_val_predict(debias_m, data_z[X], data_z[T].values.ravel(), cv=10, method='predict_proba')[:,1]\n",
    "#ps_res =  df[T] - cross_val_predict(debias_m, df[X], df[T].values.ravel(), cv=5, method='predict_proba')[:,1].reshape(-1,1) + df[T].mean()\n",
    "data_x = data_x.assign(ps = ps)"
   ]
  },
  {
   "cell_type": "code",
   "execution_count": 319,
   "id": "537022c8-e25d-4143-bc4e-59c6d6fc8447",
   "metadata": {},
   "outputs": [
    {
     "data": {
      "text/html": [
       "<div>\n",
       "<style scoped>\n",
       "    .dataframe tbody tr th:only-of-type {\n",
       "        vertical-align: middle;\n",
       "    }\n",
       "\n",
       "    .dataframe tbody tr th {\n",
       "        vertical-align: top;\n",
       "    }\n",
       "\n",
       "    .dataframe thead th {\n",
       "        text-align: right;\n",
       "    }\n",
       "</style>\n",
       "<table border=\"1\" class=\"dataframe\">\n",
       "  <thead>\n",
       "    <tr style=\"text-align: right;\">\n",
       "      <th></th>\n",
       "      <th>id.practice</th>\n",
       "      <th>X1</th>\n",
       "      <th>X2</th>\n",
       "      <th>X3</th>\n",
       "      <th>X4</th>\n",
       "      <th>X5</th>\n",
       "      <th>X6</th>\n",
       "      <th>X7</th>\n",
       "      <th>X8</th>\n",
       "      <th>X9</th>\n",
       "      <th>Z</th>\n",
       "      <th>ps</th>\n",
       "    </tr>\n",
       "  </thead>\n",
       "  <tbody>\n",
       "    <tr>\n",
       "      <th>0</th>\n",
       "      <td>1</td>\n",
       "      <td>0</td>\n",
       "      <td>A</td>\n",
       "      <td>1</td>\n",
       "      <td>A</td>\n",
       "      <td>1</td>\n",
       "      <td>20.774076</td>\n",
       "      <td>14.153255</td>\n",
       "      <td>0.161126</td>\n",
       "      <td>43.431874</td>\n",
       "      <td>1</td>\n",
       "      <td>0.765634</td>\n",
       "    </tr>\n",
       "    <tr>\n",
       "      <th>1</th>\n",
       "      <td>2</td>\n",
       "      <td>0</td>\n",
       "      <td>A</td>\n",
       "      <td>0</td>\n",
       "      <td>C</td>\n",
       "      <td>0</td>\n",
       "      <td>33.565928</td>\n",
       "      <td>3.284657</td>\n",
       "      <td>0.556784</td>\n",
       "      <td>12.721988</td>\n",
       "      <td>1</td>\n",
       "      <td>0.838888</td>\n",
       "    </tr>\n",
       "    <tr>\n",
       "      <th>2</th>\n",
       "      <td>3</td>\n",
       "      <td>0</td>\n",
       "      <td>C</td>\n",
       "      <td>1</td>\n",
       "      <td>A</td>\n",
       "      <td>1</td>\n",
       "      <td>57.283021</td>\n",
       "      <td>11.178051</td>\n",
       "      <td>0.257244</td>\n",
       "      <td>-7.352617</td>\n",
       "      <td>0</td>\n",
       "      <td>0.011570</td>\n",
       "    </tr>\n",
       "    <tr>\n",
       "      <th>3</th>\n",
       "      <td>4</td>\n",
       "      <td>1</td>\n",
       "      <td>C</td>\n",
       "      <td>1</td>\n",
       "      <td>A</td>\n",
       "      <td>0</td>\n",
       "      <td>41.900776</td>\n",
       "      <td>1.542463</td>\n",
       "      <td>0.129618</td>\n",
       "      <td>20.032199</td>\n",
       "      <td>0</td>\n",
       "      <td>0.048352</td>\n",
       "    </tr>\n",
       "    <tr>\n",
       "      <th>4</th>\n",
       "      <td>5</td>\n",
       "      <td>1</td>\n",
       "      <td>B</td>\n",
       "      <td>1</td>\n",
       "      <td>A</td>\n",
       "      <td>0</td>\n",
       "      <td>41.486809</td>\n",
       "      <td>7.504068</td>\n",
       "      <td>0.413924</td>\n",
       "      <td>35.449536</td>\n",
       "      <td>0</td>\n",
       "      <td>0.016355</td>\n",
       "    </tr>\n",
       "    <tr>\n",
       "      <th>...</th>\n",
       "      <td>...</td>\n",
       "      <td>...</td>\n",
       "      <td>...</td>\n",
       "      <td>...</td>\n",
       "      <td>...</td>\n",
       "      <td>...</td>\n",
       "      <td>...</td>\n",
       "      <td>...</td>\n",
       "      <td>...</td>\n",
       "      <td>...</td>\n",
       "      <td>...</td>\n",
       "      <td>...</td>\n",
       "    </tr>\n",
       "    <tr>\n",
       "      <th>495</th>\n",
       "      <td>496</td>\n",
       "      <td>0</td>\n",
       "      <td>C</td>\n",
       "      <td>1</td>\n",
       "      <td>A</td>\n",
       "      <td>1</td>\n",
       "      <td>29.898841</td>\n",
       "      <td>17.945129</td>\n",
       "      <td>0.381701</td>\n",
       "      <td>40.224974</td>\n",
       "      <td>1</td>\n",
       "      <td>0.885632</td>\n",
       "    </tr>\n",
       "    <tr>\n",
       "      <th>496</th>\n",
       "      <td>497</td>\n",
       "      <td>1</td>\n",
       "      <td>C</td>\n",
       "      <td>0</td>\n",
       "      <td>A</td>\n",
       "      <td>1</td>\n",
       "      <td>20.378333</td>\n",
       "      <td>20.770890</td>\n",
       "      <td>0.422255</td>\n",
       "      <td>62.857150</td>\n",
       "      <td>0</td>\n",
       "      <td>0.914869</td>\n",
       "    </tr>\n",
       "    <tr>\n",
       "      <th>497</th>\n",
       "      <td>498</td>\n",
       "      <td>0</td>\n",
       "      <td>A</td>\n",
       "      <td>0</td>\n",
       "      <td>A</td>\n",
       "      <td>0</td>\n",
       "      <td>30.162733</td>\n",
       "      <td>9.174455</td>\n",
       "      <td>0.205427</td>\n",
       "      <td>-4.931348</td>\n",
       "      <td>0</td>\n",
       "      <td>0.168042</td>\n",
       "    </tr>\n",
       "    <tr>\n",
       "      <th>498</th>\n",
       "      <td>499</td>\n",
       "      <td>1</td>\n",
       "      <td>C</td>\n",
       "      <td>0</td>\n",
       "      <td>A</td>\n",
       "      <td>1</td>\n",
       "      <td>32.795499</td>\n",
       "      <td>19.769398</td>\n",
       "      <td>0.295538</td>\n",
       "      <td>84.228736</td>\n",
       "      <td>1</td>\n",
       "      <td>0.942508</td>\n",
       "    </tr>\n",
       "    <tr>\n",
       "      <th>499</th>\n",
       "      <td>500</td>\n",
       "      <td>1</td>\n",
       "      <td>C</td>\n",
       "      <td>1</td>\n",
       "      <td>B</td>\n",
       "      <td>1</td>\n",
       "      <td>27.249023</td>\n",
       "      <td>12.603514</td>\n",
       "      <td>0.308174</td>\n",
       "      <td>11.998052</td>\n",
       "      <td>0</td>\n",
       "      <td>0.266451</td>\n",
       "    </tr>\n",
       "  </tbody>\n",
       "</table>\n",
       "<p>500 rows × 12 columns</p>\n",
       "</div>"
      ],
      "text/plain": [
       "     id.practice  X1 X2  X3 X4  X5         X6         X7        X8         X9  \\\n",
       "0              1   0  A   1  A   1  20.774076  14.153255  0.161126  43.431874   \n",
       "1              2   0  A   0  C   0  33.565928   3.284657  0.556784  12.721988   \n",
       "2              3   0  C   1  A   1  57.283021  11.178051  0.257244  -7.352617   \n",
       "3              4   1  C   1  A   0  41.900776   1.542463  0.129618  20.032199   \n",
       "4              5   1  B   1  A   0  41.486809   7.504068  0.413924  35.449536   \n",
       "..           ...  .. ..  .. ..  ..        ...        ...       ...        ...   \n",
       "495          496   0  C   1  A   1  29.898841  17.945129  0.381701  40.224974   \n",
       "496          497   1  C   0  A   1  20.378333  20.770890  0.422255  62.857150   \n",
       "497          498   0  A   0  A   0  30.162733   9.174455  0.205427  -4.931348   \n",
       "498          499   1  C   0  A   1  32.795499  19.769398  0.295538  84.228736   \n",
       "499          500   1  C   1  B   1  27.249023  12.603514  0.308174  11.998052   \n",
       "\n",
       "     Z        ps  \n",
       "0    1  0.765634  \n",
       "1    1  0.838888  \n",
       "2    0  0.011570  \n",
       "3    0  0.048352  \n",
       "4    0  0.016355  \n",
       "..  ..       ...  \n",
       "495  1  0.885632  \n",
       "496  0  0.914869  \n",
       "497  0  0.168042  \n",
       "498  1  0.942508  \n",
       "499  0  0.266451  \n",
       "\n",
       "[500 rows x 12 columns]"
      ]
     },
     "execution_count": 319,
     "metadata": {},
     "output_type": "execute_result"
    }
   ],
   "source": [
    "data_z = data_z.assign(ps = ps)\n",
    "data_z"
   ]
  },
  {
   "cell_type": "markdown",
   "id": "eb1d28ee-26dd-43b5-aa10-cf1ce435c3f5",
   "metadata": {},
   "source": [
    "# average outcome for year 3,4"
   ]
  },
  {
   "cell_type": "code",
   "execution_count": 298,
   "id": "725b0b6a-2596-4469-bfc0-917ea6a722d1",
   "metadata": {},
   "outputs": [],
   "source": [
    "data_o = pd.merge(data_x, data_y, on='id.practice')\n",
    "df = data_o\n",
    "ct = ['X2','X4']\n",
    "for c in ct:\n",
    "    df[c] = df[c].astype('category')\n",
    "    \n",
    "#XV = df.columns.drop(['id.practice','year','post','Z','n.patients'])\n",
    "V = ['V1_avg', 'V2_avg', 'V3_avg', 'V4_avg', 'V5_A_avg', 'V5_B_avg', 'V5_C_avg']\n",
    "XV = V + X\n",
    "Y = ['Y']"
   ]
  },
  {
   "cell_type": "code",
   "execution_count": 299,
   "id": "c4192fe5-bf58-47f8-8b4e-94ad4f870a52",
   "metadata": {},
   "outputs": [
    {
     "name": "stdout",
     "output_type": "stream",
     "text": [
      "865.3614330552035\n",
      "1006.572361414004\n",
      "1127.312134618135\n",
      "1247.3123710094226\n"
     ]
    }
   ],
   "source": [
    "means = []\n",
    "for i in range(1,5):\n",
    "    means.append(np.average(df[(df['year'] == i) & (df['Z'] == 0)]['Y'], weights = df[(df['year'] == i) & (df['Z'] == 0)]['n.patients']))\n",
    "    #means.append(df[(df['year']==i) & (df['Z']==0)]['Y'].mean())\n",
    "    print(means[i-1])\n",
    "\n",
    "avgs = pd.DataFrame({'year': [1, 2, 3, 4], 'ft': means})\n",
    "df = pd.merge(df, avgs, on='year')\n",
    "\n",
    "df_34 = df[df['year'] >= 3]"
   ]
  },
  {
   "cell_type": "code",
   "execution_count": 300,
   "id": "b7cd9f04-15d5-4296-be96-608231f5492d",
   "metadata": {},
   "outputs": [
    {
     "name": "stdout",
     "output_type": "stream",
     "text": [
      "1213.996301442881\n",
      "1339.7549908514943\n"
     ]
    }
   ],
   "source": [
    "for i in [3,4]:\n",
    "    print(np.average(df[(df['year'] == i) & (df['Z'] == 1)]['Y'], weights = df[(df['year'] == i) & (df['Z'] == 1)]['n.patients']))\n",
    "    #print(df[(df['year']==i) & (df['Z']==1)]['Y'].mean())"
   ]
  },
  {
   "cell_type": "code",
   "execution_count": 88,
   "id": "b807e990-a6b4-4b9c-894c-ccd7df92c35b",
   "metadata": {},
   "outputs": [
    {
     "data": {
      "text/plain": [
       "Index(['id.practice', 'X1', 'X2', 'X3', 'X4', 'X5', 'X6', 'X7', 'X8', 'X9',\n",
       "       'ps', 'year', 'Y', 'Z', 'post', 'n.patients', 'V1_avg', 'V2_avg',\n",
       "       'V3_avg', 'V4_avg', 'V5_A_avg', 'V5_B_avg', 'V5_C_avg', 'ft'],\n",
       "      dtype='object')"
      ]
     },
     "execution_count": 88,
     "metadata": {},
     "output_type": "execute_result"
    }
   ],
   "source": [
    "df_34.columns"
   ]
  },
  {
   "cell_type": "code",
   "execution_count": 330,
   "id": "9b32b3cf-1e82-4b79-bf22-5bdaefbf7e62",
   "metadata": {},
   "outputs": [],
   "source": [
    "denoise_m = LGBMRegressor(is_unbalance = True,\n",
    "                         #metric = 'log_loss',\n",
    "                         metric = 'mean_squared_error',\n",
    "                         max_depth = -1,\n",
    "                         num_leaves = 20,\n",
    "                         learning_rate = 0.1,\n",
    "                         #feature_fraction = 0.7,\n",
    "                         min_child_samples=21,\n",
    "                         min_child_weight=0.001,\n",
    "                         #bagging = 1,\n",
    "                         #subsample_freq = 2,\n",
    "                         reg_alpha = 0.002,\n",
    "                         reg_lambda = 10,\n",
    "                         cat_smooth = 0,\n",
    "                         n_estimators = 200,   \n",
    "                        )\n",
    "\n",
    "# \\hat{\\mu_0(v)+e(x)r(x)+f(t)}\n",
    "#pred3 = cross_val_predict(denoise_m, df_3[V], df_3[Y].values.ravel(), cv=10, method='predict_proba')[:,1]\n",
    "#pred4 = cross_val_predict(denoise_m, df_4[V], df_4[Y].values.ravel(), cv=10, method='predict_proba')[:,1]\n",
    "\n",
    "df_34 = df[df['year'] >= 3]\n",
    "pred_M = cross_val_predict(denoise_m, df_34[V], df_34['Y']-df_34['ft'], fit_params={'sample_weight':df_34['n.patients']}, cv=10)"
   ]
  },
  {
   "cell_type": "markdown",
   "id": "ae0ba6c1-ccd0-4712-9dc8-f57778b85ac7",
   "metadata": {},
   "source": [
    "# WLS for ATTs"
   ]
  },
  {
   "cell_type": "code",
   "execution_count": 332,
   "id": "12219b82-f2b3-4c24-8863-083462b9d9f8",
   "metadata": {
    "tags": []
   },
   "outputs": [
    {
     "data": {
      "text/plain": [
       "Index(['id.practice', 'X1', 'X2', 'X3', 'X4', 'X5', 'X6', 'X7', 'X8', 'X9',\n",
       "       'ps', 'year', 'Y', 'Z', 'post', 'n.patients', 'V1_avg', 'V2_avg',\n",
       "       'V3_avg', 'V4_avg', 'V5_A_avg', 'V5_B_avg', 'V5_C_avg', 'ft', 'y_res',\n",
       "       'z_res'],\n",
       "      dtype='object')"
      ]
     },
     "execution_count": 332,
     "metadata": {},
     "output_type": "execute_result"
    }
   ],
   "source": [
    "df_34 = df_34.assign(y_res = df_34['Y'] - pred_M - df_34['ft'], z_res = df_34['Z'] - df_34['ps'])\n",
    "df_34.columns"
   ]
  },
  {
   "cell_type": "code",
   "execution_count": 359,
   "id": "fcaab46a-0c24-4ac3-a5cb-99dbf476e2a6",
   "metadata": {},
   "outputs": [],
   "source": [
    "# standardization, estimate CATE by regression\n",
    "\n",
    "scaler = StandardScaler()\n",
    "\n",
    "df_34 = pd.get_dummies(df_34, columns=['X2','X4'])\n",
    "df_34[['X6','X7','X8','X9']] = scaler.fit_transform(df_34[['X6','X7','X8','X9']]) / 2"
   ]
  },
  {
   "cell_type": "code",
   "execution_count": 333,
   "id": "07904ff8-b3d4-4af9-b174-48c33f6d89d3",
   "metadata": {},
   "outputs": [
    {
     "data": {
      "image/png": "[encoded data removed]",
      "text/plain": [
       "<Figure size 640x480 with 1 Axes>"
      ]
     },
     "metadata": {},
     "output_type": "display_data"
    }
   ],
   "source": [
    "plt.hist(df_34['y_res'], bins=50)\n",
    "plt.show()"
   ]
  },
  {
   "cell_type": "code",
   "execution_count": 329,
   "id": "e05b4b21-3427-4057-9676-f98701161b67",
   "metadata": {},
   "outputs": [
    {
     "data": {
      "image/png": "[encoded data removed]",
      "text/plain": [
       "<Figure size 640x480 with 1 Axes>"
      ]
     },
     "metadata": {},
     "output_type": "display_data"
    }
   ],
   "source": [
    "plt.hist(df_34['z_res'], bins=50)\n",
    "plt.show()"
   ]
  },
  {
   "cell_type": "code",
   "execution_count": 367,
   "id": "dd258d2a-092e-44c7-ac0b-1f67c56aaf2f",
   "metadata": {},
   "outputs": [],
   "source": [
    "df_3 = df_34[df_34['year'] == 3]\n",
    "df_4 = df_34[df_34['year'] == 4]"
   ]
  },
  {
   "cell_type": "code",
   "execution_count": 92,
   "id": "2c6df599-873c-4953-9bdc-0c778850cbc1",
   "metadata": {},
   "outputs": [],
   "source": [
    "model_34 = smf.wls(formula='y_res ~ z_res', data=df_34, weights=df_34['n.patients']).fit()"
   ]
  },
  {
   "cell_type": "code",
   "execution_count": 360,
   "id": "7ed2f988-81d1-464a-942f-dfa227b2beef",
   "metadata": {},
   "outputs": [
    {
     "data": {
      "text/plain": [
       "Index(['id.practice', 'X1', 'X3', 'X5', 'X6', 'X7', 'X8', 'X9', 'ps', 'year',\n",
       "       'Y', 'Z', 'post', 'n.patients', 'V1_avg', 'V2_avg', 'V3_avg', 'V4_avg',\n",
       "       'V5_A_avg', 'V5_B_avg', 'V5_C_avg', 'ft', 'y_res', 'z_res', 'X2_A',\n",
       "       'X2_B', 'X2_C', 'X4_A', 'X4_B', 'X4_C'],\n",
       "      dtype='object')"
      ]
     },
     "execution_count": 360,
     "metadata": {},
     "output_type": "execute_result"
    }
   ],
   "source": [
    "df_34.columns"
   ]
  },
  {
   "cell_type": "code",
   "execution_count": 372,
   "id": "03f97bba-33cc-4649-aea7-694eae610f99",
   "metadata": {},
   "outputs": [
    {
     "data": {
      "text/plain": [
       "'y_res ~ z_res * (X1 + X3 + X5 + X6 + X7 + X8 + X9 + X2_A + X2_B + X4_A + X4_B)'"
      ]
     },
     "execution_count": 372,
     "metadata": {},
     "output_type": "execute_result"
    }
   ],
   "source": [
    "formula = 'y_res ~ z_res * ('\n",
    "for name in ['X1', 'X3', 'X5', 'X6', 'X7', 'X8', 'X9', 'X2_A', 'X2_B', 'X4_A']: # to avoid colinearlity\n",
    "    formula += name + ' + '\n",
    "formula += 'X4_B)'\n",
    "formula"
   ]
  },
  {
   "cell_type": "code",
   "execution_count": 373,
   "id": "bf0bca05-80ba-4371-b61a-f6ea229705d9",
   "metadata": {
    "tags": []
   },
   "outputs": [],
   "source": [
    "model_3 = smf.wls(formula=formula, data=df_3, weights=df_3['n.patients']).fit()\n",
    "model_4 = smf.wls(formula=formula, data=df_4, weights=df_4['n.patients']).fit()"
   ]
  },
  {
   "cell_type": "code",
   "execution_count": 374,
   "id": "8f55a8df-5582-43d2-b6ff-ed8ac479f8b4",
   "metadata": {},
   "outputs": [
    {
     "data": {
      "text/plain": [
       "Index(['id.practice', 'X1', 'X3', 'X5', 'X6', 'X7', 'X8', 'X9', 'ps', 'year',\n",
       "       'Y', 'Z', 'post', 'n.patients', 'V1_avg', 'V2_avg', 'V3_avg', 'V4_avg',\n",
       "       'V5_A_avg', 'V5_B_avg', 'V5_C_avg', 'ft', 'y_res', 'z_res', 'X2_A',\n",
       "       'X2_B', 'X2_C', 'X4_A', 'X4_B', 'X4_C'],\n",
       "      dtype='object')"
      ]
     },
     "execution_count": 374,
     "metadata": {},
     "output_type": "execute_result"
    }
   ],
   "source": [
    "df_3.columns"
   ]
  },
  {
   "cell_type": "code",
   "execution_count": 387,
   "id": "261fbf3b-730c-4dfd-a66b-fb4372ce85cc",
   "metadata": {},
   "outputs": [],
   "source": [
    "df_3 = df_3.assign(cate=model_3.predict(df_3.assign(z_res=1)) - model_3.predict(df_3.assign(z_res=0)))\n",
    "df_4 = df_4.assign(cate=model_4.predict(df_4.assign(z_res=1)) - model_4.predict(df_4.assign(z_res=0)))"
   ]
  },
  {
   "cell_type": "code",
   "execution_count": 393,
   "id": "114cc075-045a-4ee9-97a6-48359791d413",
   "metadata": {},
   "outputs": [
    {
     "data": {
      "text/plain": [
       "54.66394462872983"
      ]
     },
     "execution_count": 393,
     "metadata": {},
     "output_type": "execute_result"
    }
   ],
   "source": [
    "np.average(df_3['cate'], weights=df_3['n.patients'])"
   ]
  },
  {
   "cell_type": "code",
   "execution_count": 87,
   "id": "9142c5bc-1ba9-4d18-a5ee-6231d311b89a",
   "metadata": {},
   "outputs": [],
   "source": [
    "model = LinearRegression()\n",
    "r3 = model.fit(X=df_3[['z_res']], y=df_3[['y_res']], sample_weight=df_3['n.patients'])\n",
    "#r4 = model.fit(X=df_4[['z_res']], y=df_4[['y_res']], sample_weight=df_4['n.patients'])"
   ]
  },
  {
   "cell_type": "code",
   "execution_count": 335,
   "id": "990f95a4-64a8-44ed-b5ce-33a9050d4ec9",
   "metadata": {},
   "outputs": [
    {
     "data": {
      "text/plain": [
       "[15.924817748741317, 17.7724544380259]"
      ]
     },
     "execution_count": 335,
     "metadata": {},
     "output_type": "execute_result"
    }
   ],
   "source": [
    "r3 = model_3.params.z_res\n",
    "r4 = model_4.params.z_res\n",
    "r = [r3,r4]\n",
    "r"
   ]
  },
  {
   "cell_type": "markdown",
   "id": "14e29721-d16d-4c46-b281-d9548629e73f",
   "metadata": {
    "tags": []
   },
   "source": [
    "# Iterative Estimation"
   ]
  },
  {
   "cell_type": "code",
   "execution_count": null,
   "id": "e3d441a6-1062-4eb4-b06b-1b5a0c67de48",
   "metadata": {
    "tags": []
   },
   "outputs": [],
   "source": [
    "# initial estimator f; cross-fitting w, M; estimating r3, r4 by regression\n",
    "\n",
    "# repeat:\n",
    "#   subtracting w*r; estimating f; cross-fitting m\n",
    "#   evaluating M = m + f;\n",
    "#   estimating r3,r4\n",
    "# until convergence"
   ]
  },
  {
   "cell_type": "code",
   "execution_count": 220,
   "id": "2f216ea9-7813-4431-835a-08cf0b2099a7",
   "metadata": {},
   "outputs": [],
   "source": [
    "df = df.assign(y_cor = df['Y'])"
   ]
  },
  {
   "cell_type": "code",
   "execution_count": 63,
   "id": "5afb7301-4b71-439a-a7ce-bb61a31be7ed",
   "metadata": {},
   "outputs": [],
   "source": [
    "d_t = df"
   ]
  },
  {
   "cell_type": "code",
   "execution_count": 69,
   "id": "95d9a9a1-a66a-43c2-9297-1ab7394c088a",
   "metadata": {},
   "outputs": [],
   "source": [
    "df=d_t"
   ]
  },
  {
   "cell_type": "code",
   "execution_count": 131,
   "id": "e3898652-b479-49dd-bfb6-4584893c528f",
   "metadata": {},
   "outputs": [],
   "source": [
    "for i in [3,4]:\n",
    "    df.loc[df['year']==i,'y_cor'] -= df[df['year'] == i]['Z'] * r[i-3]\n",
    "    df.loc[df['year']==i,'ft'] = df[df['year'] == i]['y_cor'].mean()\n",
    "    df_34.loc[df_34['year']==i,'ft'] = df[df['year'] == i]['y_cor'].mean()"
   ]
  },
  {
   "cell_type": "code",
   "execution_count": 132,
   "id": "cf030da9-17cb-46e1-aa23-654cd29e9db8",
   "metadata": {},
   "outputs": [
    {
     "data": {
      "text/plain": [
       "array([306.0367264 ,  12.21831348, 285.80749828, ..., -46.8342468 ,\n",
       "        14.48820984, -66.45481579])"
      ]
     },
     "execution_count": 132,
     "metadata": {},
     "output_type": "execute_result"
    }
   ],
   "source": [
    "mu_0 = LGBMRegressor(is_unbalance = True,\n",
    "                     #metric = 'log_loss',\n",
    "                     metric = 'mean_squared_error',\n",
    "                     max_depth = 4,\n",
    "                     num_leaves = 20,\n",
    "                     learning_rate = 0.1,\n",
    "                     #feature_fraction = 0.7,\n",
    "                     min_child_samples=21,\n",
    "                     min_child_weight=0.001,\n",
    "                     #bagging = 1,\n",
    "                     #subsample_freq = 2,\n",
    "                     reg_alpha = 0.002,\n",
    "                     reg_lambda = 10,\n",
    "                     cat_smooth = 0,\n",
    "                     n_estimators = 200,   \n",
    "                     )\n",
    "\n",
    "cross_val_predict(mu_0, df[V], df['Y']-df['ft'])"
   ]
  },
  {
   "cell_type": "code",
   "execution_count": 133,
   "id": "c9ca7b9c-a1a6-4f13-8850-79827cbcf3fd",
   "metadata": {},
   "outputs": [],
   "source": [
    "mu_0 = LGBMRegressor(is_unbalance = True,\n",
    "                     #metric = 'log_loss',\n",
    "                     metric = 'mean_squared_error',\n",
    "                     max_depth = 4,\n",
    "                     num_leaves = 20,\n",
    "                     learning_rate = 0.1,\n",
    "                     #feature_fraction = 0.7,\n",
    "                     min_child_samples=21,\n",
    "                     min_child_weight=0.001,\n",
    "                     #bagging = 1,\n",
    "                     #subsample_freq = 2,\n",
    "                     reg_alpha = 0.002,\n",
    "                     reg_lambda = 10,\n",
    "                     cat_smooth = 0,\n",
    "                     n_estimators = 200,   \n",
    "                     )\n",
    "\n",
    "df = df.assign(mu = cross_val_predict(mu_0, df[V], df['Y']-df['ft']))"
   ]
  },
  {
   "cell_type": "code",
   "execution_count": 107,
   "id": "60281685-befe-4ad6-bca1-53611f6781ae",
   "metadata": {},
   "outputs": [
    {
     "data": {
      "text/plain": [
       "Index(['id.practice', 'X1', 'X2', 'X3', 'X4', 'X5', 'X6', 'X7', 'X8', 'X9',\n",
       "       'ps', 'year', 'Y', 'Z', 'post', 'n.patients', 'V1_avg', 'V2_avg',\n",
       "       'V3_avg', 'V4_avg', 'V5_A_avg', 'V5_B_avg', 'V5_C_avg', 'ft', 'y_cor',\n",
       "       'mu', 'y_res'],\n",
       "      dtype='object')"
      ]
     },
     "execution_count": 107,
     "metadata": {},
     "output_type": "execute_result"
    }
   ],
   "source": [
    "df.columns"
   ]
  },
  {
   "cell_type": "code",
   "execution_count": 108,
   "id": "9bad8d34-9aec-413c-8727-2eff93cfc361",
   "metadata": {},
   "outputs": [
    {
     "data": {
      "text/plain": [
       "Index(['id.practice', 'X1', 'X2', 'X3', 'X4', 'X5', 'X6', 'X7', 'X8', 'X9',\n",
       "       'ps', 'year', 'Y', 'Z', 'post', 'n.patients', 'V1_avg', 'V2_avg',\n",
       "       'V3_avg', 'V4_avg', 'V5_A_avg', 'V5_B_avg', 'V5_C_avg', 'ft', 'y_res',\n",
       "       'z_res'],\n",
       "      dtype='object')"
      ]
     },
     "execution_count": 108,
     "metadata": {},
     "output_type": "execute_result"
    }
   ],
   "source": [
    "df_34.columns"
   ]
  },
  {
   "cell_type": "code",
   "execution_count": 134,
   "id": "71399f2d-30aa-4c42-a080-0036a49d91dd",
   "metadata": {},
   "outputs": [],
   "source": [
    "for i in [3,4]:\n",
    "    df_34.loc[df_34['year']==i,'y_res'] = df[df['year'] == i]['mu'] + df[df['year'] == i]['ps'] * r[i-3]"
   ]
  },
  {
   "cell_type": "code",
   "execution_count": 135,
   "id": "01347d10-086e-4fc4-8ce3-542202295db7",
   "metadata": {},
   "outputs": [],
   "source": [
    "df_3 = df_34[df_34['year'] == 3]\n",
    "df_4 = df_34[df_34['year'] == 4]\n",
    "model_3 = smf.wls(formula='y_res ~ z_res', data=df_3, weights=df_3['n.patients']).fit()\n",
    "model_4 = smf.wls(formula='y_res ~ z_res', data=df_4, weights=df_4['n.patients']).fit()"
   ]
  },
  {
   "cell_type": "code",
   "execution_count": 185,
   "id": "473c6b44-6ecd-413c-b799-25b008e45944",
   "metadata": {},
   "outputs": [
    {
     "data": {
      "text/plain": [
       "[32.865483309799856, 47.58266088874949]"
      ]
     },
     "execution_count": 185,
     "metadata": {},
     "output_type": "execute_result"
    }
   ],
   "source": [
    "r"
   ]
  },
  {
   "cell_type": "code",
   "execution_count": 136,
   "id": "0a70db16-dd4c-4291-90ca-cd666e522d1a",
   "metadata": {},
   "outputs": [
    {
     "data": {
      "text/plain": [
       "[33.68970602599228, 25.942007356511574]"
      ]
     },
     "execution_count": 136,
     "metadata": {},
     "output_type": "execute_result"
    }
   ],
   "source": [
    "r3 = model_3.params.z_res\n",
    "r4 = model_4.params.z_res\n",
    "r = [r3,r4]\n",
    "r"
   ]
  },
  {
   "cell_type": "code",
   "execution_count": 169,
   "id": "bcd4a7a4-76dc-458c-b18c-8e80482b797e",
   "metadata": {},
   "outputs": [
    {
     "data": {
      "text/plain": [
       "array([ 870.64513368, 1010.07608408, 1153.17218653, 1260.84948403])"
      ]
     },
     "execution_count": 169,
     "metadata": {},
     "output_type": "execute_result"
    }
   ],
   "source": [
    "df['ft'].unique()"
   ]
  },
  {
   "cell_type": "code",
   "execution_count": 186,
   "id": "6e0a6e19-31c7-4c2f-b0dc-7c56156fd439",
   "metadata": {},
   "outputs": [
    {
     "data": {
      "text/plain": [
       "1266.136732128633"
      ]
     },
     "execution_count": 186,
     "metadata": {},
     "output_type": "execute_result"
    }
   ],
   "source": [
    "np.average(df[df['year'] == i]['y_cor'], weights = df[df['year'] == i]['n.patients'])"
   ]
  },
  {
   "cell_type": "code",
   "execution_count": 286,
   "id": "a716fce5-c035-4489-9275-080845c40d98",
   "metadata": {},
   "outputs": [
    {
     "data": {
      "text/plain": [
       "LGBMRegressor(max_depth=4)"
      ]
     },
     "execution_count": 286,
     "metadata": {},
     "output_type": "execute_result"
    }
   ],
   "source": [
    "model_final = LGBMRegressor(max_depth=4)\n",
    "#model_final = MLPClassifier(hidden_layer_sizes=(50,), solver='lbfgs',alpha=0.1, random_state=1, max_iter=10000, learning_rate='invscaling', early_stopping=True)\n",
    " \n",
    "# create the weights\n",
    "w = df_34['z_res'] ** 2 \n",
    " \n",
    "# create the transformed target\n",
    "y_star = (df_34['y_res'] / df_34['z_res'])\n",
    " \n",
    "# use a weighted regression ML model to predict the target with the weights.\n",
    "model_final.fit(X=df_34[V], y=y_star, sample_weight=w)\n",
    "#model_final.fit(X=df_34[V], y=y_star)"
   ]
  },
  {
   "cell_type": "code",
   "execution_count": 341,
   "id": "235e44b7-b7e3-40fc-aec3-b36f23b0b1b3",
   "metadata": {},
   "outputs": [
    {
     "data": {
      "image/png": "[encoded data removed]",
      "text/plain": [
       "<Figure size 640x480 with 1 Axes>"
      ]
     },
     "metadata": {},
     "output_type": "display_data"
    }
   ],
   "source": [
    "plt.hist(df[df['year']<=2]['mu'], bins=50)\n",
    "plt.show()"
   ]
  },
  {
   "cell_type": "code",
   "execution_count": 340,
   "id": "641c32cb-fd2c-485d-b819-1b0be70235d6",
   "metadata": {},
   "outputs": [
    {
     "data": {
      "image/png": "[encoded data removed]",
      "text/plain": [
       "<Figure size 640x480 with 1 Axes>"
      ]
     },
     "metadata": {},
     "output_type": "display_data"
    }
   ],
   "source": [
    "plt.hist(df_34['y_res'], bins=50)\n",
    "plt.show()"
   ]
  },
  {
   "cell_type": "code",
   "execution_count": 338,
   "id": "ed7d6bb9-6102-48b7-bed4-93a0762f962f",
   "metadata": {},
   "outputs": [
    {
     "data": {
      "image/png": "[encoded data removed]",
      "text/plain": [
       "<Figure size 640x480 with 1 Axes>"
      ]
     },
     "metadata": {},
     "output_type": "display_data"
    }
   ],
   "source": [
    "plt.hist(df_34['z_res'], bins=50)\n",
    "plt.show()"
   ]
  },
  {
   "cell_type": "code",
   "execution_count": 339,
   "id": "55a176e0-8aca-4447-b26e-c896ab42e3d1",
   "metadata": {},
   "outputs": [
    {
     "name": "stdout",
     "output_type": "stream",
     "text": [
      "[35.55304125740407, 49.24918673867093]\n",
      "[36.172269414929914, 51.16826996686993]\n",
      "[37.05939155152342, 51.306931381127676]\n",
      "[37.46854542256627, 51.81950944143455]\n",
      "[37.809391936664724, 52.30368223005564]\n",
      "[38.1805743974867, 52.983377953636605]\n",
      "[38.361137973945816, 53.415201792735935]\n",
      "[38.416754283984744, 53.82098574259241]\n",
      "[38.95619697945814, 54.26800114781676]\n",
      "[38.98433829820455, 54.521246644292646]\n",
      "[39.39475834117958, 54.56369365695974]\n",
      "[39.811458644222476, 54.734120797658704]\n",
      "[39.99370334884708, 54.82148686130973]\n",
      "[40.240539016651, 54.967893715257304]\n",
      "[40.2322810533595, 55.089435239813724]\n",
      "[40.27996708702045, 55.29462998083146]\n",
      "[40.38540789038692, 55.42857931337405]\n",
      "[40.526435952316035, 55.630946764882616]\n",
      "[40.756556011046165, 55.60675766776307]\n",
      "[40.86168603228269, 55.717391427806305]\n",
      "[40.93528805351458, 55.76047463744633]\n",
      "[41.02700716108808, 55.80770415132742]\n",
      "[41.04441133635396, 55.85802264986449]\n",
      "[41.12072983419439, 55.84185025244622]\n",
      "[41.20376217884943, 55.848434415791964]\n",
      "[41.22570357079249, 55.81016739632467]\n",
      "[41.24554842689429, 55.82843914010684]\n",
      "[41.257823984140536, 55.829143177971915]\n",
      "[41.26936427347559, 55.82984187832752]\n",
      "[41.28087531412102, 55.829963300655436]\n",
      "[41.291739127552134, 55.8442263082278]\n",
      "[41.302044945265614, 55.873366868198836]\n",
      "[41.25788195136972, 55.939778681374264]\n",
      "[41.27585088944104, 55.9524434425674]\n",
      "[41.274813167406194, 55.957650909952875]\n",
      "[41.274813167406194, 55.957650909952875] 35\n"
     ]
    }
   ],
   "source": [
    "max_iter = 50\n",
    "it = 1\n",
    "\n",
    "while it < max_iter:\n",
    "    df = df.assign(y_cor = df['Y'])\n",
    "    \n",
    "    for i in [3,4]:\n",
    "        df.loc[df['year']==i,'y_cor'] -= df[df['year'] == i]['Z'] * r[i-3]\n",
    "        df.loc[df['year']==i,'ft'] = np.average(df[df['year'] == i]['y_cor'], weights = df[df['year'] == i]['n.patients'])\n",
    "        df_34.loc[df_34['year']==i,'ft'] = np.average(df[df['year'] == i]['y_cor'], weights = df[df['year'] == i]['n.patients'])\n",
    "    \n",
    "    mu_0 = LGBMRegressor(is_unbalance = True,\n",
    "                     metric = 'mean_squared_error',\n",
    "                     max_depth = -1,\n",
    "                     num_leaves = 20,\n",
    "                     learning_rate = 0.1,\n",
    "                     #feature_fraction = 0.7,\n",
    "                     min_child_samples=21,\n",
    "                     min_child_weight=0.001,\n",
    "                     #bagging = 1,\n",
    "                     #subsample_freq = 2,\n",
    "                     reg_alpha = 0.002,\n",
    "                     reg_lambda = 10,\n",
    "                     cat_smooth = 0,\n",
    "                     n_estimators = 200,   \n",
    "                     )\n",
    "\n",
    "    df = df.assign(mu = cross_val_predict(mu_0, df[V], df['y_cor']-df['ft'], fit_params={'sample_weight':df['n.patients']}))\n",
    "    \n",
    "    for i in [3,4]:\n",
    "        df_34.loc[df_34['year']==i,'y_res'] = it/(it+1) * df_34.loc[df_34['year']==i,'y_res'] + \\\n",
    "                                              (df[df['year'] == i]['Y'] - df[df['year'] == i]['mu'] - \\\n",
    "                                              df[df['year'] == i]['ps'] * r[i-3] - df[df['year'] == i]['ft']) / (it+1)\n",
    "        \n",
    "    df_3 = df_34[df_34['year'] == 3]\n",
    "    df_4 = df_34[df_34['year'] == 4]\n",
    "    model_3 = smf.wls(formula='y_res ~ z_res', data=df_3, weights=df_3['n.patients']).fit()\n",
    "    model_4 = smf.wls(formula='y_res ~ z_res', data=df_4, weights=df_4['n.patients']).fit()\n",
    "    \n",
    "    r3 = model_3.params.z_res\n",
    "    r4 = model_4.params.z_res\n",
    "    r_old = r[:]\n",
    "    r = [r3, r4]\n",
    "    err = [abs(r[0]-r_old[0]), abs(r[1]-r_old[1])]\n",
    "    print(r)\n",
    "    \n",
    "    if max(err) < 0.01:\n",
    "        break\n",
    "    \n",
    "    it += 1\n",
    "    \n",
    "print(r, it)"
   ]
  },
  {
   "cell_type": "code",
   "execution_count": 150,
   "id": "beb98834-a92b-4a2d-9db9-0f7680218d3d",
   "metadata": {},
   "outputs": [
    {
     "name": "stdout",
     "output_type": "stream",
     "text": [
      "[2, 3] 4\n"
     ]
    }
   ],
   "source": [
    "print([2,3],4)"
   ]
  },
  {
   "cell_type": "code",
   "execution_count": 147,
   "id": "407530d1-02f8-4ef0-8738-88bba61674b6",
   "metadata": {},
   "outputs": [
    {
     "data": {
      "text/plain": [
       "[2, 3]"
      ]
     },
     "execution_count": 147,
     "metadata": {},
     "output_type": "execute_result"
    }
   ],
   "source": [
    "a = [2,3]\n",
    "b = a[:]\n",
    "a[0]=4\n",
    "b"
   ]
  }
 ],
 "metadata": {
  "kernelspec": {
   "display_name": "Python 3",
   "language": "python",
   "name": "python3"
  },
  "language_info": {
   "codemirror_mode": {
    "name": "ipython",
    "version": 3
   },
   "file_extension": ".py",
   "mimetype": "text/x-python",
   "name": "python",
   "nbconvert_exporter": "python",
   "pygments_lexer": "ipython3",
   "version": "3.7.4"
  }
 },
 "nbformat": 4,
 "nbformat_minor": 5
}
