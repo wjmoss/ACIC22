{
 "cells": [
  {
   "cell_type": "code",
   "execution_count": 151,
   "id": "58f6be26-3e1c-4166-80d8-2b3177ca9e20",
   "metadata": {},
   "outputs": [],
   "source": [
    "import numpy as np\n",
    "import pandas as pd\n",
    "import scipy.stats\n",
    "import statsmodels.formula.api as smf\n",
    "import matplotlib.pyplot as plt\n",
    "import functools\n",
    " \n",
    "from sklearn.preprocessing import StandardScaler\n",
    "from sklearn.linear_model import LogisticRegression, LinearRegression\n",
    "from lightgbm import LGBMRegressor,LGBMClassifier\n",
    "from sklearn.model_selection import cross_val_predict, GridSearchCV, KFold"
   ]
  },
  {
   "cell_type": "markdown",
   "id": "d3c3370f-42c7-4b1d-af6f-603462a8fb32",
   "metadata": {},
   "source": [
    "# load data"
   ]
  },
  {
   "cell_type": "code",
   "execution_count": 177,
   "id": "a4b61af0-1f14-4f91-802e-54ffb08b1e89",
   "metadata": {},
   "outputs": [],
   "source": [
    "data_x = pd.read_csv(\"./data/practice/acic_practice_0001.csv\")\n",
    "data_y = pd.read_csv(\"./data/practice_year/acic_practice_year_0001.csv\")\n",
    "data_y = pd.concat([data_y[data_y['year'] == i] for i in range(1,5)])\n",
    "\n",
    "ct = ['X2','X4']\n",
    "for c in ct:\n",
    "    data_x[c] = data_x[c].astype('category')\n",
    "    \n",
    "X = ['X1','X2','X3','X4','X5','X6','X7','X8','X9']\n",
    "V = ['V1_avg', 'V2_avg', 'V3_avg', 'V4_avg', 'V5_A_avg', 'V5_B_avg', 'V5_C_avg']\n",
    "XV = V + X\n",
    "Y = ['Y']\n",
    "T = ['Z']"
   ]
  },
  {
   "cell_type": "code",
   "execution_count": 178,
   "id": "844e8b94-dfc9-4714-84b5-320679131375",
   "metadata": {},
   "outputs": [
    {
     "data": {
      "text/plain": [
       "Index(['id.practice', 'X1', 'X2', 'X3', 'X4', 'X5', 'X6', 'X7', 'X8', 'X9'], dtype='object')"
      ]
     },
     "execution_count": 178,
     "metadata": {},
     "output_type": "execute_result"
    }
   ],
   "source": [
    "data_x.columns"
   ]
  },
  {
   "cell_type": "code",
   "execution_count": 165,
   "id": "1eb3ffe4-8243-4b43-9ffe-5fe8db8dcdde",
   "metadata": {},
   "outputs": [
    {
     "data": {
      "text/plain": [
       "Index(['id.practice', 'year', 'Y', 'Z', 'post', 'n.patients', 'V1_avg',\n",
       "       'V2_avg', 'V3_avg', 'V4_avg', 'V5_A_avg', 'V5_B_avg', 'V5_C_avg'],\n",
       "      dtype='object')"
      ]
     },
     "execution_count": 165,
     "metadata": {},
     "output_type": "execute_result"
    }
   ],
   "source": [
    "data_y.columns"
   ]
  },
  {
   "cell_type": "markdown",
   "id": "a4f4a2ed-f064-4552-ab50-6e653490d6e7",
   "metadata": {},
   "source": [
    "# create 10-fold indices"
   ]
  },
  {
   "cell_type": "code",
   "execution_count": 179,
   "id": "b52e0dc2-53d7-4547-88f7-540de736ff23",
   "metadata": {},
   "outputs": [],
   "source": [
    "kf = KFold(n_splits=10, shuffle=True, random_state=1)\n",
    "indices = []\n",
    "for train_index, test_index in kf.split(data_x):\n",
    "    #print(\"TRAIN:\", train_index, \"TEST:\", test_index)\n",
    "    indices.append((train_index, test_index))"
   ]
  },
  {
   "cell_type": "code",
   "execution_count": 111,
   "id": "ad7fbe3c-73f5-43a4-8bf6-1669e29e9d5b",
   "metadata": {},
   "outputs": [
    {
     "name": "stdout",
     "output_type": "stream",
     "text": [
      "450 50\n",
      "450 50\n",
      "450 50\n",
      "450 50\n",
      "450 50\n",
      "450 50\n",
      "450 50\n",
      "450 50\n",
      "450 50\n",
      "450 50\n"
     ]
    }
   ],
   "source": [
    "for train_index, test_index in indices:\n",
    "    print(len(train_index), len(test_index))"
   ]
  },
  {
   "cell_type": "markdown",
   "id": "974bb301-0b99-40a3-a777-e3aae20f7a48",
   "metadata": {},
   "source": [
    "# cross-fitting and estimate ATTE"
   ]
  },
  {
   "cell_type": "code",
   "execution_count": 180,
   "id": "cacded55-297a-484c-8378-18515dce4c0c",
   "metadata": {},
   "outputs": [],
   "source": [
    "# ML method objects, to estimate e(X) and g_0(V,X)\n",
    "prob_m = LGBMClassifier(objective = 'binary',\n",
    "                         is_unbalance = True,\n",
    "                         #metric = 'log_loss',\n",
    "                         metric = 'binary_logloss,auc',\n",
    "                         max_depth = 8,\n",
    "                         num_leaves = 20,\n",
    "                         learning_rate = 0.1,\n",
    "                         #feature_fraction = 0.7,\n",
    "                         min_child_samples=20,\n",
    "                         min_child_weight=0.001,\n",
    "                         #bagging = 1,\n",
    "                         #subsample_freq = 2,\n",
    "                         reg_alpha = 0.002,\n",
    "                         reg_lambda = 10,\n",
    "                         cat_smooth = 0,\n",
    "                         n_estimators = 200,   \n",
    "                        )\n",
    "\n",
    "mean_m = LGBMRegressor(is_unbalance = True,\n",
    "                       #metric = 'log_loss',\n",
    "                       metric = 'l2',\n",
    "                       max_depth = -1,\n",
    "                       num_leaves = 20,\n",
    "                       learning_rate = 0.1,\n",
    "                       #feature_fraction = 0.7,\n",
    "                       min_child_samples=20,\n",
    "                       min_child_weight=0.001,\n",
    "                       #bagging = 1,\n",
    "                       #subsample_freq = 2,\n",
    "                       reg_alpha = 0.002,\n",
    "                       reg_lambda = 10,\n",
    "                       cat_smooth = 0,\n",
    "                       n_estimators = 200,   \n",
    "                       )"
   ]
  },
  {
   "cell_type": "code",
   "execution_count": 181,
   "id": "942f7b5f-d8e8-49a9-93bc-c32134a9c1e1",
   "metadata": {},
   "outputs": [
    {
     "data": {
      "text/plain": [
       "Index(['id.practice', 'X1', 'X2', 'X3', 'X4', 'X5', 'X6', 'X7', 'X8', 'X9'], dtype='object')"
      ]
     },
     "execution_count": 181,
     "metadata": {},
     "output_type": "execute_result"
    }
   ],
   "source": [
    "data_x.columns"
   ]
  },
  {
   "cell_type": "code",
   "execution_count": 197,
   "id": "78de627c-554b-45d9-ac55-0e8966a3c812",
   "metadata": {},
   "outputs": [
    {
     "data": {
      "text/plain": [
       "Index(['id.practice', 'X1', 'X2', 'X3', 'X4', 'X5', 'X6', 'X7', 'X8', 'X9',\n",
       "       'ps'],\n",
       "      dtype='object')"
      ]
     },
     "execution_count": 197,
     "metadata": {},
     "output_type": "execute_result"
    }
   ],
   "source": [
    "data_x.columns"
   ]
  },
  {
   "cell_type": "markdown",
   "id": "68fb8627-a0ae-40dd-b4c6-cc7fa403a094",
   "metadata": {
    "tags": []
   },
   "source": [
    "# propensity score"
   ]
  },
  {
   "cell_type": "code",
   "execution_count": 196,
   "id": "e7a51e71-b580-48df-82af-de430b7ef765",
   "metadata": {},
   "outputs": [],
   "source": [
    "# propensity score\n",
    "data_x = data_x.assign(ps=0)\n",
    "for train_index, test_index in indices:\n",
    "    prob_m.fit(X=data_x[X].iloc[train_index], y=data_y['Z'].iloc[train_index].values.ravel())\n",
    "    data_x.loc[test_index, 'ps'] = prob_m.predict_proba(X=data_x[X].iloc[test_index])[:,1]\n",
    "    \n",
    "df = pd.merge(data_x, data_y, on='id.practice')"
   ]
  },
  {
   "cell_type": "markdown",
   "id": "61134c2b-9d5f-496c-b9de-cf0258168dce",
   "metadata": {},
   "source": [
    "# year average"
   ]
  },
  {
   "cell_type": "code",
   "execution_count": 198,
   "id": "de94ab7e-7ddf-4bbf-a976-eb46d6d6ef8c",
   "metadata": {},
   "outputs": [
    {
     "name": "stdout",
     "output_type": "stream",
     "text": [
      "865.3614330552035\n",
      "1006.572361414004\n",
      "1127.312134618135\n",
      "1247.3123710094226\n",
      "867.6927807920633\n",
      "1087.793746374329\n",
      "1213.996301442881\n",
      "1339.7549908514943\n",
      "866.4015254031086\n",
      "1042.6514616793997\n"
     ]
    }
   ],
   "source": [
    "# avg for treated and untreated\n",
    "\n",
    "means = []\n",
    "for i in range(1,5):\n",
    "    means.append(np.average(df[(df['year'] == i) & (df['Z'] == 0)]['Y'], weights = df[(df['year'] == i) & (df['Z'] == 0)]['n.patients']))\n",
    "    print(means[i-1])\n",
    "\n",
    "avgs = pd.DataFrame({'year': [1, 2, 3, 4], 'ft': means})\n",
    "df = pd.merge(df, avgs, on='year')\n",
    "\n",
    "df_34 = df[df['year'] >= 3]\n",
    "\n",
    "for i in [1,2,3,4]:\n",
    "    print(np.average(df[(df['year'] == i) & (df['Z'] == 1)]['Y'], weights = df[(df['year'] == i) & (df['Z'] == 1)]['n.patients']))\n",
    "    \n",
    "\n",
    "# avg for year 1,2\n",
    "for i in [1,2]:\n",
    "    print(np.average(df[(df['year'] == i)]['Y'], weights = df[(df['year'] == i)]['n.patients']))"
   ]
  },
  {
   "cell_type": "markdown",
   "id": "42a74808-1b3e-479b-8160-24af8efcf70e",
   "metadata": {},
   "source": [
    "# mean function $g_0(X,V)$"
   ]
  },
  {
   "cell_type": "code",
   "execution_count": 126,
   "id": "1e799c92-90ae-48de-93c3-f435b05bf772",
   "metadata": {},
   "outputs": [],
   "source": [
    "# temporary dataframes\n",
    "df_0 = df[(df['year'] <= 2) | (df['Z'] == 0)]\n",
    "df_3 = df[(df['year'] == 3) | (df['Z'] == 1)]\n",
    "df_4 = df[(df['year'] == 4) | (df['Z'] == 1)]"
   ]
  },
  {
   "cell_type": "code",
   "execution_count": 64,
   "id": "c54420dd-affd-426f-9666-42225d145e97",
   "metadata": {},
   "outputs": [
    {
     "data": {
      "text/plain": [
       "array([  1,   7,  22,  37,  50,  68,  71,  72,  86, 115, 129, 133, 141,\n",
       "       144, 156, 178, 203, 209, 215, 216, 235, 237, 241, 252, 254, 255,\n",
       "       264, 276, 281, 313, 316, 317, 319, 335, 352, 357, 384, 390, 393,\n",
       "       395, 396, 398, 402, 413, 431, 448, 460, 465, 468, 494])"
      ]
     },
     "execution_count": 64,
     "metadata": {},
     "output_type": "execute_result"
    }
   ],
   "source": [
    "test_index"
   ]
  },
  {
   "cell_type": "code",
   "execution_count": null,
   "id": "0511e7cd-df2b-4e26-b1c4-23064810a6dc",
   "metadata": {},
   "outputs": [],
   "source": [
    "(data_y['year']-data_y['Z']).iloc[test_index]"
   ]
  },
  {
   "cell_type": "code",
   "execution_count": 201,
   "id": "5977372e-ce30-47b7-8aa7-789433930850",
   "metadata": {},
   "outputs": [
    {
     "data": {
      "text/plain": [
       "(2000,)"
      ]
     },
     "execution_count": 201,
     "metadata": {},
     "output_type": "execute_result"
    }
   ],
   "source": [
    "(df['Y']-df['ft']).shape"
   ]
  },
  {
   "cell_type": "code",
   "execution_count": 199,
   "id": "decfec0d-e54c-491e-aa3b-8971b20b9970",
   "metadata": {},
   "outputs": [
    {
     "name": "stderr",
     "output_type": "stream",
     "text": [
      "C:\\Users\\wj\\Anaconda3\\lib\\site-packages\\ipykernel_launcher.py:12: UserWarning: Boolean Series key will be reindexed to match DataFrame index.\n",
      "  if sys.path[0] == '':\n"
     ]
    }
   ],
   "source": [
    "# g_0(X,V)\n",
    "df = df.assign(g0=0)\n",
    "for train_index, test_index in indices:\n",
    "    tr = df['Z']\n",
    "    train = np.concatenate((train_index, train_index+500, train_index+1000, train_index+1500))\n",
    "    test = np.concatenate((test_index, test_index+500, test_index+1000, test_index+1500))\n",
    "    xx = df[XV].iloc[train]\n",
    "    yy = (df['Y']-df['ft']).iloc[train]\n",
    "    sw = df['n.patients'].iloc[np.concatenate((train_index, train_index+500, train_index+1000, train_index+1500))]\n",
    "    \n",
    "    # use all data of year 1,2; untreated groups of year 3,4\n",
    "    xx = xx[tr == 0]\n",
    "    yy = yy[tr == 0]\n",
    "    sw = sw[tr == 0]\n",
    "    mean_m.fit(X=xx, y=yy, sample_weight=sw)    \n",
    "    df.loc[test, 'g0'] = mean_m.predict(df[XV].iloc[test])    "
   ]
  },
  {
   "cell_type": "markdown",
   "id": "1552df34-3037-4111-9f92-8c920c12d807",
   "metadata": {},
   "source": [
    "# ATTEs"
   ]
  },
  {
   "cell_type": "code",
   "execution_count": 218,
   "id": "539081e1-c87f-4c62-a89e-1fa7586a550e",
   "metadata": {},
   "outputs": [
    {
     "data": {
      "text/plain": [
       "44.74772250563123"
      ]
     },
     "execution_count": 218,
     "metadata": {},
     "output_type": "execute_result"
    }
   ],
   "source": [
    "psi_3.mean()"
   ]
  },
  {
   "cell_type": "code",
   "execution_count": 219,
   "id": "07c0a501-5e72-48bf-a1c1-2dbaaad578db",
   "metadata": {},
   "outputs": [],
   "source": [
    "df_3 = df[df['year'] == 3]\n",
    "df_4 = df[df['year'] == 4]\n",
    "df_34 = df[df['year'] >= 3]\n",
    "\n",
    "psi_3 = df_3['Z'] * (df_3['Y'] - df_3['g0'] - df_3['ft']) - df_3['ps'] / (1 - df_3['ps']) * (1 - df_3['Z']) * (df_3['Y'] - df_3['g0'] - df_3['ft'])\n",
    "psi_4 = df_4['Z'] * (df_4['Y'] - df_4['g0'] - df_4['ft']) - df_4['ps'] / (1 - df_4['ps']) * (1 - df_4['Z']) * (df_4['Y'] - df_4['g0'] - df_4['ft'])\n",
    "psi_34 = df_34['Z'] * (df_34['Y'] - df_34['g0'] - df_34['ft']) - df_34['ps'] / (1 - df_34['ps']) * (1 - df_34['Z']) * (df_34['Y'] - df_34['g0'] - df_34['ft'])\n",
    "\n",
    "\n",
    "tau_3 = np.average(psi_3, weights=df_3['n.patients']) / np.average(df_3['Z'], weights=df_3['n.patients'])\n",
    "tau_4 = np.average(psi_4, weights=df_4['n.patients']) / np.average(df_4['Z'], weights=df_4['n.patients'])\n",
    "tau_34 = np.average(psi_34, weights=df_34['n.patients']) / np.average(df_34['Z'], weights=df_34['n.patients'])"
   ]
  },
  {
   "cell_type": "markdown",
   "id": "456e34cb-d272-4733-a661-1dc59bd17156",
   "metadata": {},
   "source": [
    "# confidence intervals"
   ]
  },
  {
   "cell_type": "code",
   "execution_count": 220,
   "id": "bfb01b7d-c589-4dbf-aa04-8f63c6c2c729",
   "metadata": {},
   "outputs": [],
   "source": [
    "p3 = np.average(df_3['ps'],  weights=df_3['n.patients'])\n",
    "p4 = np.average(df_4['ps'],  weights=df_4['n.patients'])\n",
    "p34 = np.average(df_34['ps'],  weights=df_34['n.patients'])\n",
    "\n",
    "sigma_3 = psi_3 - df_3['Z'] * tau_3 / p3\n",
    "sigma_4 = psi_4 - df_4['Z'] * tau_4 / p4\n",
    "sigma_34 = psi_34 - df_34['Z'] * tau_34 / p34\n",
    "\n",
    "sigma_3 = (np.average(sigma_3 ** 2, weights=df_3['n.patients'])) ** 0.5\n",
    "sigma_4 = (np.average(sigma_4 ** 2, weights=df_4['n.patients'])) ** 0.5\n",
    "sigma_34 = (np.average(sigma_34 ** 2, weights=df_34['n.patients'])) ** 0.5\n",
    "\n",
    "qt = scipy.stats.norm.ppf(0.95)\n",
    "ci_3 = (tau_3 - qt * sigma_3 / 500, tau_3 + qt * sigma_3 / 500)\n",
    "ci_4 = (tau_4 - qt * sigma_4 / 500, tau_4 + qt * sigma_4 / 500)\n",
    "ci_34 = (tau_34 - qt * sigma_34 / 500, tau_34 + qt * sigma_34 / 500)"
   ]
  },
  {
   "cell_type": "code",
   "execution_count": 221,
   "id": "0b6a646c-229a-475e-a8f2-840b1488ac22",
   "metadata": {},
   "outputs": [
    {
     "name": "stdout",
     "output_type": "stream",
     "text": [
      "19.55408781513193 (17.60754144288514, 21.50063418737872)\n",
      "44.69332665843247 (42.94081396045842, 46.445839356406516)\n",
      "32.098507050662 (30.246718529147802, 33.950295572176195)\n"
     ]
    }
   ],
   "source": [
    "print(tau_3, ci_3)\n",
    "print(tau_4, ci_4)\n",
    "print(tau_34, ci_34)"
   ]
  },
  {
   "cell_type": "code",
   "execution_count": null,
   "id": "ff194b01-9f06-4d6a-96da-01a81443b791",
   "metadata": {},
   "outputs": [],
   "source": []
  }
 ],
 "metadata": {
  "kernelspec": {
   "display_name": "Python 3",
   "language": "python",
   "name": "python3"
  },
  "language_info": {
   "codemirror_mode": {
    "name": "ipython",
    "version": 3
   },
   "file_extension": ".py",
   "mimetype": "text/x-python",
   "name": "python",
   "nbconvert_exporter": "python",
   "pygments_lexer": "ipython3",
   "version": "3.7.4"
  }
 },
 "nbformat": 4,
 "nbformat_minor": 5
}
